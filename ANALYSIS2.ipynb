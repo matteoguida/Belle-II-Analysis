{
 "cells": [
  {
   "cell_type": "markdown",
   "metadata": {},
   "source": [
    "\n",
    "## Laboratory of Computational Physics mod. B  <em>at Phisics of Data, University of Padova<em>\n",
    "\n",
    "# Title????\n",
    "\n",
    "### Authors:\n",
    "- Valeria Fioroni (University of Padova)\n",
    "- Matteo Guida (University of Padova)\n",
    "- Philipp Zehetner (Ludwig Maximilian University of Munich)"
   ]
  },
  {
   "cell_type": "code",
   "execution_count": 12,
   "metadata": {},
   "outputs": [
    {
     "name": "stdout",
     "output_type": "stream",
     "text": [
      "Requirement already satisfied: xgboost in ./anaconda3/envs/BelleAnalysis/lib/python3.6/site-packages (0.90)\r\n",
      "Requirement already satisfied: numpy in ./anaconda3/envs/BelleAnalysis/lib/python3.6/site-packages (from xgboost) (1.16.4)\r\n",
      "Requirement already satisfied: scipy in ./anaconda3/envs/BelleAnalysis/lib/python3.6/site-packages (from xgboost) (1.2.1)\r\n"
     ]
    }
   ],
   "source": [
    "import os, glob\n",
    "import time\n",
    "import seaborn as sn\n",
    "import numpy as np\n",
    "import pandas as pd\n",
    "import itertools\n",
    "import time\n",
    "!pip install xgboost\n",
    "import xgboost as xgb\n",
    "import warnings\n",
    "import matplotlib.pyplot as plt\n",
    "from root_pandas import read_root\n",
    "#import tensorflow as tf\n",
    "import sklearn\n",
    "from sklearn.preprocessing import StandardScaler\n",
    "from sklearn.preprocessing import label_binarize\n",
    "from sklearn.model_selection import cross_val_score\n",
    "from sklearn.model_selection import StratifiedKFold\n",
    "from sklearn.model_selection import train_test_split\n",
    "from sklearn.metrics import roc_curve, auc\n",
    "from sklearn.decomposition import PCA\n",
    "from scipy import interp\n",
    "from keras.wrappers.scikit_learn import KerasClassifier\n",
    "from keras.models import Sequential\n",
    "from keras.layers import Dense\n",
    "from random import seed\n",
    "from random import randint\n",
    "\n",
    "from sklearn.neural_network import MLPClassifier\n",
    "from sklearn.model_selection import GridSearchCV"
   ]
  },
  {
   "cell_type": "code",
   "execution_count": 2,
   "metadata": {},
   "outputs": [],
   "source": [
    "from sklearn.preprocessing import FunctionTransformer"
   ]
  },
  {
   "cell_type": "markdown",
   "metadata": {},
   "source": [
    "## Useful lists of variables"
   ]
  },
  {
   "cell_type": "code",
   "execution_count": 3,
   "metadata": {},
   "outputs": [
    {
     "name": "stdout",
     "output_type": "stream",
     "text": [
      "['B0_M', 'B0_ErrM', 'B0_SigM', 'B0_K_S0_M', 'B0_K_S0_ErrM', 'B0_K_S0_SigM', 'B0_etap_M', 'B0_etap_ErrM', 'B0_etap_SigM', 'B0_etap_eta_M', 'B0_etap_eta_ErrM', 'B0_etap_eta_SigM', 'B0_P', 'B0_P4', 'B0_deltae', 'B0_mbc', 'B0_etap_P', 'B0_etap_P4', 'B0_etap_eta_P', 'B0_etap_eta_P4', 'B0_etap_eta_gamma0_P', 'B0_etap_eta_gamma0_P4', 'B0_etap_eta_gamma1_P', 'B0_etap_eta_gamma1_P4', 'B0_etap_pi0_P', 'B0_etap_pi0_P4', 'B0_etap_pi1_P', 'B0_etap_pi1_P4', 'B0_K_S0_P', 'B0_K_S0_P4', 'B0_decayAngle__bo0__bc', 'B0_decayAngle__bo1__bc', 'B0_etap_decayAngle__bo0__bc', 'B0_etap_decayAngle__bo1__bc', 'B0_etap_decayAngle__bo2__bc', 'B0_X', 'B0_ErrX', 'B0_Y', 'B0_ErrY', 'B0_Z', 'B0_ErrZ', 'B0_Rho', 'B0_etap_X', 'B0_etap_ErrX', 'B0_etap_Y', 'B0_etap_ErrY', 'B0_etap_Z', 'B0_etap_ErrZ', 'B0_etap_Rho', 'B0_etap_eta_X', 'B0_etap_eta_ErrX', 'B0_etap_eta_Y', 'B0_etap_eta_ErrY', 'B0_etap_eta_Z', 'B0_etap_eta_ErrZ', 'B0_etap_eta_Rho', 'B0_etap_pi0_X', 'B0_etap_pi0_ErrX', 'B0_etap_pi0_Y', 'B0_etap_pi0_ErrY', 'B0_etap_pi0_Z', 'B0_etap_pi0_ErrZ', 'B0_etap_pi0_Rho', 'B0_etap_pi1_X', 'B0_etap_pi1_ErrX', 'B0_etap_pi1_Y', 'B0_etap_pi1_ErrY', 'B0_etap_pi1_Z', 'B0_etap_pi1_ErrZ', 'B0_etap_pi1_Rho', 'B0_K_S0_X', 'B0_K_S0_ErrX', 'B0_K_S0_Y', 'B0_K_S0_ErrY', 'B0_K_S0_Z', 'B0_K_S0_ErrZ', 'B0_K_S0_Rho', 'B0_cosAngleBetweenMomentumAndVertexVector', 'B0_distance', 'B0_significanceOfDistance', 'B0_dr', 'B0_etap_pi0_dr', 'B0_etap_pi1_dr', 'B0_K_S0_dr', 'B0_VtxPvalue', 'B0_etap_VtxPvalue', 'B0_etap_eta_VtxPvalue', 'B0_etap_pi0_VtxPvalue', 'B0_etap_pi1_VtxPvalue', 'B0_K_S0_VtxPvalue', 'B0_CSMVA', 'B0_TrCSMVA']\n"
     ]
    }
   ],
   "source": [
    "General = ['exp_no', 'run_no', 'evt_no', 'nCands', 'iCand']\n",
    "Masses = ['B0_M', 'B0_ErrM', 'B0_SigM', 'B0_K_S0_M', 'B0_K_S0_ErrM', 'B0_K_S0_SigM', 'B0_etap_M', 'B0_etap_ErrM', \n",
    "          'B0_etap_SigM', 'B0_etap_eta_M', 'B0_etap_eta_ErrM', 'B0_etap_eta_SigM']\n",
    "Kinetics = ['B0_P', 'B0_P4', 'B0_deltae', 'B0_mbc', 'B0_etap_P', 'B0_etap_P4', \n",
    "            'B0_etap_eta_P', 'B0_etap_eta_P4', 'B0_etap_eta_gamma0_P', 'B0_etap_eta_gamma0_P4',\n",
    "            'B0_etap_eta_gamma1_P', 'B0_etap_eta_gamma1_P4', 'B0_etap_pi0_P', 'B0_etap_pi0_P4',\n",
    "            'B0_etap_pi1_P', 'B0_etap_pi1_P4', 'B0_K_S0_P', 'B0_K_S0_P4']\n",
    "Kinetics_CM =[]\n",
    "Kinetics_comp = ['B0_P', 'B0_P40', 'B0_P41', 'B0_P42', 'B0_P43', 'B0_deltae', 'B0_mbc',\n",
    "                 'B0_etap_P', 'B0_etap_P40', 'B0_etap_P41', 'B0_etap_P42','B0_etap_P43','B0_etap_eta_P',\n",
    "                 'B0_etap_eta_P40', 'B0_etap_eta_P41', 'B0_etap_eta_P42', 'B0_etap_eta_P43',\n",
    "                 'B0_etap_eta_gamma0_P', 'B0_etap_eta_gamma0_P40', 'B0_etap_eta_gamma0_P41', \n",
    "                 'B0_etap_eta_gamma0_P42', 'B0_etap_eta_gamma0_P43', 'B0_etap_eta_gamma1_P', 'B0_etap_eta_gamma1_P40',\n",
    "                 'B0_etap_eta_gamma1_P41', 'B0_etap_eta_gamma1_P42', 'B0_etap_eta_gamma1_P43', 'B0_etap_pi0_P',\n",
    "                 'B0_etap_pi0_P40', 'B0_etap_pi0_P41', 'B0_etap_pi0_P42', 'B0_etap_pi0_P43', 'B0_etap_pi1_P',\n",
    "                 'B0_etap_pi1_P40', 'B0_etap_pi1_P41', 'B0_etap_pi1_P42', 'B0_etap_pi1_P43', 'B0_K_S0_P',\n",
    "                 'B0_K_S0_P40', 'B0_K_S0_P41', 'B0_K_S0_P42', 'B0_K_S0_P43']\n",
    "FourMomenta = ['B0_P4', 'B0_etap_P4', 'B0_etap_eta_P4', 'B0_etap_eta_gamma0_P4', 'B0_etap_eta_gamma1_P4', 'B0_etap_pi0_P4', 'B0_etap_pi1_P4', 'B0_K_S0_P4']\n",
    "DecayAngles = ['B0_decayAngle__bo0__bc', 'B0_decayAngle__bo1__bc', 'B0_etap_decayAngle__bo0__bc',\n",
    "               'B0_etap_decayAngle__bo1__bc', 'B0_etap_decayAngle__bo2__bc']\n",
    "Positions = ['B0_X', 'B0_ErrX', 'B0_Y', 'B0_ErrY', 'B0_Z', 'B0_ErrZ', 'B0_Rho',  \n",
    "             'B0_etap_X', 'B0_etap_ErrX', 'B0_etap_Y', 'B0_etap_ErrY', \n",
    "             'B0_etap_Z', 'B0_etap_ErrZ', 'B0_etap_Rho',\n",
    "             'B0_etap_eta_X', 'B0_etap_eta_ErrX', 'B0_etap_eta_Y',\n",
    "             'B0_etap_eta_ErrY', 'B0_etap_eta_Z', 'B0_etap_eta_ErrZ', 'B0_etap_eta_Rho',\n",
    "             'B0_etap_pi0_X', 'B0_etap_pi0_ErrX', 'B0_etap_pi0_Y', 'B0_etap_pi0_ErrY', \n",
    "             'B0_etap_pi0_Z', 'B0_etap_pi0_ErrZ', 'B0_etap_pi0_Rho', \n",
    "             'B0_etap_pi1_X', 'B0_etap_pi1_ErrX', 'B0_etap_pi1_Y', 'B0_etap_pi1_ErrY', \n",
    "             'B0_etap_pi1_Z', 'B0_etap_pi1_ErrZ', 'B0_etap_pi1_Rho', \n",
    "             'B0_K_S0_X', 'B0_K_S0_ErrX', 'B0_K_S0_Y', 'B0_K_S0_ErrY', 'B0_K_S0_Z',\n",
    "             'B0_K_S0_ErrZ', 'B0_K_S0_Rho', \n",
    "             'B0_cosAngleBetweenMomentumAndVertexVector', 'B0_distance', 'B0_significanceOfDistance',\n",
    "             'B0_dr', 'B0_etap_pi0_dr', 'B0_etap_pi1_dr', 'B0_K_S0_dr']\n",
    "Vertex = ['B0_VtxPvalue', 'B0_VtxProd', 'B0_VtxProdCov', 'B0_etap_VtxPvalue', 'B0_etap_VtxProd', 'B0_etap_VtxProdCov',\n",
    "          'B0_etap_eta_VtxPvalue', 'B0_etap_eta_VtxProd', 'B0_etap_VtxProdCov', \n",
    "          'B0_etap_pi0_VtxPvalue', 'B0_etap_pi0_VtxProd', 'B0_etap_pi0_VtxProdCov', \n",
    "          'B0_etap_pi1_VtxPvalue', 'B0_etap_pi1_VtxProd', 'B0_etap_pi1_VtxProdCov', \n",
    "          'B0_K_S0_VtxPvalue', 'B0_K_S0_VtxProd', 'B0_K_S0_VtxProdCov']\n",
    "\n",
    "Vertex_train = ['B0_VtxPvalue', 'B0_etap_VtxPvalue','B0_etap_eta_VtxPvalue', 'B0_etap_pi0_VtxPvalue', \n",
    "                'B0_etap_pi1_VtxPvalue', 'B0_K_S0_VtxPvalue']\n",
    "Continuum_Supression = ['B0_CSMVA', 'B0_TrCSMVA']\n",
    "\n",
    "\n",
    "Important_variables= Masses + Kinetics + DecayAngles + Positions + Vertex_train + Continuum_Supression\n",
    "print(Important_variables)"
   ]
  },
  {
   "cell_type": "markdown",
   "metadata": {},
   "source": [
    "## Read Data"
   ]
  },
  {
   "cell_type": "code",
   "execution_count": 18,
   "metadata": {},
   "outputs": [
    {
     "name": "stderr",
     "output_type": "stream",
     "text": [
      "/home/Students/anaconda3/envs/BelleAnalysis/lib/python3.6/site-packages/root_pandas/readwrite.py:320: FutureWarning: '.reindex_axis' is deprecated and will be removed in a future version. Use '.reindex' instead.\n",
      "  df = df.reindex_axis(columns, axis=1, copy=False)\n"
     ]
    },
    {
     "name": "stdout",
     "output_type": "stream",
     "text": [
      "(219897, 391)\n",
      "(232554, 391)\n",
      "(1490, 391)\n",
      "1145.02 Mb\n",
      "1210.92 Mb\n",
      "7.76 Mb\n",
      "CPU times: user 2min 19s, sys: 5.43 s, total: 2min 24s\n",
      "Wall time: 2min 23s\n"
     ]
    }
   ],
   "source": [
    "%%time\n",
    "def memory(df):\n",
    "    print(str((round(df.memory_usage(deep=True).sum() / 1024 ** 2, 2))),\"Mb\")\n",
    "warnings.filterwarnings(action='ignore', category=DeprecationWarning)\n",
    "#Read background and signal samples from ROOT files\n",
    "#BACKGROUND\n",
    "path = '/home/Students/DataBelle2_all/'\n",
    "SFiles = glob.glob(os.path.join(path, 'Signal/*.root'))\n",
    "CFiles = glob.glob(os.path.join(path, 'Background/Continuum/*.root'))\n",
    "PFiles = glob.glob(os.path.join(path, 'Background/Peaking/*.root'))\n",
    "\n",
    "Full_Signal = pd.concat((read_root(f, 'B0') for f in SFiles))\n",
    "Full_Continuous = pd.concat((read_root(f, 'B0') for f in CFiles)) \n",
    "Full_Peaking = pd.concat((read_root(f, 'B0') for f in PFiles))\n",
    "\n",
    "#Signal: require B0_isSignal == True\n",
    "Full_Signal=Full_Signal[Full_Signal['B0_isSignal']== True]\n",
    "#reset row indexing\n",
    "Full_Signal.reset_index(drop=True, inplace=True)\n",
    "print(Full_Signal.shape)\n",
    "\n",
    "#Continuum: require B0_isContinuumEvent == True\n",
    "Full_Continuous=Full_Continuous[Full_Continuous['B0_isContinuumEvent']== True]\n",
    "#reset row indexing\n",
    "Full_Continuous.reset_index(drop=True, inplace=True)\n",
    "print(Full_Continuous.shape)\n",
    "\n",
    "#Peaking: require B0_isNotContinuumEvent == True\n",
    "Full_Peaking=Full_Peaking[Full_Peaking['B0_isNotContinuumEvent']== True]\n",
    "#reset row indexing\n",
    "Full_Peaking.reset_index(drop=True, inplace=True)\n",
    "print(Full_Peaking.shape)\n",
    "    \n",
    "memory(Full_Signal)\n",
    "memory(Full_Continuous)\n",
    "memory(Full_Peaking)"
   ]
  },
  {
   "cell_type": "markdown",
   "metadata": {},
   "source": [
    "## Preselection"
   ]
  },
  {
   "cell_type": "code",
   "execution_count": 19,
   "metadata": {},
   "outputs": [
    {
     "name": "stdout",
     "output_type": "stream",
     "text": [
      "(213579, 391)\n",
      "(120103, 391)\n",
      "(933, 391)\n",
      "(212354, 391)\n",
      "212354\n"
     ]
    }
   ],
   "source": [
    "#Masses from PDG\n",
    "M_B0 = [5.27955, 0.00026]\n",
    "M_K0 = [0.497611, 0.000013]\n",
    "M_etap = [0.95778, 0.00006]\n",
    "M_eta = [0.547862, 0.000017]\n",
    "\n",
    "#Require the B0 mass to be within 5 sigma from PDG value\n",
    "Full_Signal = Full_Signal[abs(Full_Signal['B0_M'] - M_B0[0]) < 5 * Full_Signal['B0_ErrM']]\n",
    "print(Full_Signal.shape)\n",
    "\n",
    "Full_Continuous = Full_Continuous[abs(Full_Continuous['B0_M'] - M_B0[0]) < 5 * Full_Continuous['B0_ErrM']]\n",
    "print(Full_Continuous.shape)\n",
    "\n",
    "Full_Peaking = Full_Peaking[abs(Full_Peaking['B0_M'] - M_B0[0]) < 5 * Full_Peaking['B0_ErrM']]\n",
    "print(Full_Peaking.shape)\n",
    "\n",
    "#Signal: In case of more than 1 candidate per event select the first one occuring\n",
    "Mask_duplicated = Full_Signal.duplicated(subset='evt_no', keep='first')\n",
    "Mask_duplicated=np.logical_not(Mask_duplicated)\n",
    "Full_Signal=Full_Signal[Mask_duplicated]\n",
    "Full_Signal.reset_index(drop=True, inplace=True)\n",
    "\n",
    "print(Full_Signal.shape)\n",
    "print(Full_Signal['evt_no'].nunique())"
   ]
  },
  {
   "cell_type": "code",
   "execution_count": 20,
   "metadata": {},
   "outputs": [
    {
     "name": "stdout",
     "output_type": "stream",
     "text": [
      "(120103, 84)\n",
      "(933, 84)\n",
      "(212354, 84)\n"
     ]
    }
   ],
   "source": [
    "#Select variables useful for the Classification task\n",
    "Full_Signal = Full_Signal[Important_variables]\n",
    "\n",
    "Full_Continuous= Full_Continuous[Important_variables]\n",
    "\n",
    "Full_Peaking= Full_Peaking[Important_variables]\n",
    "\n",
    "#drop 4-momenta: not really useful for classification\n",
    "\"\"\"Full_Signal =Full_Signal.drop(FourMomenta, axis=1)\n",
    "Full_Continuous=Full_Continuous.drop(FourMomenta, axis=1)\n",
    "Full_Peaking= Full_Peaking.drop(FourMomenta, axis=1)\"\"\"\n",
    "\n",
    "print(Full_Continuous.shape)\n",
    "print(Full_Peaking.shape)\n",
    "print(Full_Signal.shape)"
   ]
  },
  {
   "cell_type": "code",
   "execution_count": 5,
   "metadata": {},
   "outputs": [
    {
     "data": {
      "text/plain": [
       "'#Select variables useful for the Classification task\\nSignal_sel = Full_Signal[Important_variables]\\ndel(Full_Signal)\\n\\nFull_Continuous= Full_Continuous[Important_variables]\\ndel(Full_Continuous)\\n\\nFull_Peaking= Full_Peaking[Important_variables]\\ndel(Full_Peaking)\\n\\n#drop 4-momenta: not really useful for classification\\nSignal_sel =Signal_sel.drop(FourMomenta, axis=1)\\nContinuum_bkg_sel=Continuum_bkg_sel.drop(FourMomenta, axis=1)\\nPeaking_bkg_sel= Peaking_bkg_sel.drop(FourMomenta, axis=1)\\n\\nprint(Continuum_bkg_sel.shape)\\nprint(Peaking_bkg_sel.shape)\\nprint(Signal_sel.shape)'"
      ]
     },
     "execution_count": 5,
     "metadata": {},
     "output_type": "execute_result"
    }
   ],
   "source": [
    "\"\"\"#Select variables useful for the Classification task\n",
    "Signal_sel = Full_Signal[Important_variables]\n",
    "del(Full_Signal)\n",
    "\n",
    "Full_Continuous= Full_Continuous[Important_variables]\n",
    "del(Full_Continuous)\n",
    "\n",
    "Full_Peaking= Full_Peaking[Important_variables]\n",
    "del(Full_Peaking)\n",
    "\n",
    "#drop 4-momenta: not really useful for classification\n",
    "Signal_sel =Signal_sel.drop(FourMomenta, axis=1)\n",
    "Continuum_bkg_sel=Continuum_bkg_sel.drop(FourMomenta, axis=1)\n",
    "Peaking_bkg_sel= Peaking_bkg_sel.drop(FourMomenta, axis=1)\n",
    "\n",
    "print(Continuum_bkg_sel.shape)\n",
    "print(Peaking_bkg_sel.shape)\n",
    "print(Signal_sel.shape)\"\"\""
   ]
  },
  {
   "cell_type": "code",
   "execution_count": 6,
   "metadata": {},
   "outputs": [],
   "source": [
    "\"\"\"#The Dataframe contains arrays as elements, I create a new column for each component\n",
    "for M in FourMomenta: \n",
    "    Full_Signal[M+'0'], Full_Signal[M+'1'], Full_Signal[M+'2'], Full_Signal[M+'3'] = zip(*Full_Signal.pop(M))\n",
    "for M in FourMomenta: \n",
    "    Full_Peaking[M+'0'], Full_Peaking[M+'1'], Full_Peaking[M+'2'], Full_Peaking[M+'3'] = zip(*Full_Peaking.pop(M))\n",
    "for M in FourMomenta: \n",
    "    Full_Continuous[M+'0'], Full_Continuous[M+'1'], Full_Continuous[M+'2'], Full_Continuous[M+'3'] = zip(*Full_Continuous.pop(M))\"\"\""
   ]
  },
  {
   "cell_type": "markdown",
   "metadata": {},
   "source": [
    "## Train, Validation and Test splitting"
   ]
  },
  {
   "cell_type": "code",
   "execution_count": 22,
   "metadata": {},
   "outputs": [],
   "source": [
    "# seed random number generator\n",
    "n_seed=2347\n",
    "seed(n_seed)"
   ]
  },
  {
   "cell_type": "code",
   "execution_count": 23,
   "metadata": {},
   "outputs": [
    {
     "data": {
      "text/plain": [
       "'del(Full_Signal)\\ndel(Full_Peaking)\\ndel(Full_Continuous)'"
      ]
     },
     "execution_count": 23,
     "metadata": {},
     "output_type": "execute_result"
    }
   ],
   "source": [
    "Full_Signal['Type'] = 2 #Signal label == 2\n",
    "Full_Peaking['Type'] = 1 # Peaking background label == 1\n",
    "Full_Continuous['Type'] = 0 #Continuum backgroun label == 0\n",
    "'''***********************************************************************************************************\n",
    "**************************************************************************************************************\n",
    "I can't think of a way of doing the following with a for loop. I don't want to create a \n",
    "list with the dataframes because it would take a lot memory...if you find an efficient way of doing the\n",
    "train-validation-test splitting keeping signal and different background separated let me know and change the code,\n",
    "I'll try to find a way of doing it more efficiently too\n",
    "****************************************************************************************************************\n",
    "****************************************************************************************'''\n",
    "#SIGNAL: Train, Validation and test split (50%, 30%, 20%)\n",
    "#Dataset divided into 50% of train data and 50% for validation and test\n",
    "X = Full_Signal.drop('Type',axis=1)\n",
    "Y = Full_Signal['Type']\n",
    "Y = label_binarize(Y, classes=[0, 1, 2]) # Binarize the labels\n",
    "X_train_S, X_test_val_S, Y_train_S, Y_test_val_S = train_test_split(X, Y, train_size=0.5,random_state=randint(10**6,10**9))\n",
    "#validation and test set divided into 30% for validation and 20% for test\n",
    "X = X_test_val_S\n",
    "Y = Y_test_val_S\n",
    "X_validation_S, X_test_S, Y_validation_S, Y_test_S = train_test_split(X, Y, train_size=0.6,random_state=randint(10**6,10**9))\n",
    "del(X_test_val_S)\n",
    "del(Y_test_val_S)\n",
    "\n",
    "#CONTINUUM BKG: Train, Validation and test split (50%, 30%, 20%)\n",
    "#Dataset divided into 50% of train data and 50% for validation and test\n",
    "X = Full_Continuous.drop('Type',axis=1)\n",
    "Y = Full_Continuous['Type']\n",
    "Y = label_binarize(Y, classes=[0, 1, 2]) # Binarize the labels\n",
    "X_train_C, X_test_val_C, Y_train_C, Y_test_val_C = train_test_split(X, Y, train_size=0.5,random_state=randint(10**6,10**9))\n",
    "#validation and test set divided into 30% for validation and 20% for test\n",
    "X = X_test_val_C\n",
    "Y = Y_test_val_C\n",
    "X_validation_C, X_test_C, Y_validation_C, Y_test_C = train_test_split(X, Y, train_size=0.6,random_state=randint(10**6,10**9))\n",
    "del(X_test_val_C)\n",
    "del(Y_test_val_C)\n",
    "\n",
    "#PEAKING BKG: Train, Validation and test split (50%, 30%, 20%)\n",
    "#Dataset divided into 50% of train data and 50% for validation and test\n",
    "X = Full_Peaking.drop('Type',axis=1)\n",
    "Y = Full_Peaking['Type']\n",
    "Y = label_binarize(Y, classes=[0, 1, 2]) # Binarize the labels\n",
    "X_train_P, X_test_val_P, Y_train_P, Y_test_val_P = train_test_split(X, Y, train_size=0.5,random_state=randint(10**6,10**9))\n",
    "#validation and test set divided into 30% for validation and 20% for test\n",
    "X = X_test_val_P\n",
    "Y = Y_test_val_P\n",
    "X_validation_P, X_test_P, Y_validation_P, Y_test_P = train_test_split(X, Y, train_size=0.6,random_state=randint(10**6,10**9))\n",
    "del(X_test_val_P)\n",
    "del(Y_test_val_P)\n",
    "\n",
    "\"\"\"del(Full_Signal)\n",
    "del(Full_Peaking)\n",
    "del(Full_Continuous)\"\"\""
   ]
  },
  {
   "cell_type": "code",
   "execution_count": 25,
   "metadata": {},
   "outputs": [
    {
     "name": "stdout",
     "output_type": "stream",
     "text": [
      "(106177, 84) \n",
      " (60051, 84) \n",
      " (466, 84)\n"
     ]
    }
   ],
   "source": [
    "print(X_train_S.shape,\"\\n\",X_train_C.shape,\"\\n\",X_train_P.shape)"
   ]
  },
  {
   "cell_type": "code",
   "execution_count": 83,
   "metadata": {},
   "outputs": [
    {
     "name": "stdout",
     "output_type": "stream",
     "text": [
      "(166694, 84)\n",
      "(100017, 84)\n",
      "(66679, 84)\n"
     ]
    }
   ],
   "source": [
    "#Define Training, Validation and Test datasets\n",
    "X_train=pd.concat((X_train_S, X_train_C, X_train_P), axis=0)\n",
    "X_validation=pd.concat((X_validation_S, X_validation_C, X_validation_P), axis=0)\n",
    "X_test=pd.concat((X_test_S, X_test_C, X_test_P), axis=0)\n",
    "\n",
    "Y_train=np.concatenate((Y_train_S, Y_train_C, Y_train_P), axis=0)\n",
    "Y_validation=np.concatenate((Y_validation_S, Y_validation_C, Y_validation_P), axis=0)\n",
    "Y_test=np.concatenate((Y_test_S, Y_test_C, Y_test_P), axis=0)\n",
    "\n",
    "print(X_train.shape)\n",
    "print(X_validation.shape)\n",
    "print(X_test.shape)\n",
    "\n",
    "n_classes = Y_train.shape[1]\n",
    "\n",
    "\n",
    "#shuffle the dataset\n",
    "permutation = np.random.permutation(X_train.shape[0])\n",
    "X_train = X_train.sample(frac=1)\n",
    "Y_train = Y_train[permutation]\n",
    "\n",
    "permutation = np.random.permutation(X_validation.shape[0])\n",
    "X_validation = X_validation.sample(frac=1)\n",
    "Y_validation = Y_validation[permutation]\n",
    "\n",
    "permutation = np.random.permutation(X_test.shape[0])\n",
    "X_test = X_test.sample(frac=1)\n",
    "Y_test = Y_test[permutation]"
   ]
  },
  {
   "cell_type": "code",
   "execution_count": 27,
   "metadata": {},
   "outputs": [
    {
     "name": "stdout",
     "output_type": "stream",
     "text": [
      "StandardScaler(copy=True, with_mean=True, with_std=True)\n"
     ]
    }
   ],
   "source": [
    "ss = StandardScaler()\n",
    "print(ss.fit(X_train))\n",
    "# The averages and standard deviations of all the databases are saved, \n",
    "# now with transfer I modify the data (Train and Test) in practice\n",
    "X_train = ss.transform(X_train)\n",
    "X_validation = ss.transform(X_validation)\n",
    "X_test = ss.transform(X_test)"
   ]
  },
  {
   "cell_type": "markdown",
   "metadata": {},
   "source": [
    "## Principal Component Analysis"
   ]
  },
  {
   "cell_type": "code",
   "execution_count": 30,
   "metadata": {},
   "outputs": [
    {
     "name": "stdout",
     "output_type": "stream",
     "text": [
      "84\n",
      "Variables needed to explain 99% of variance :  50\n",
      "Reducing the size of the dataset 59.52 %\n"
     ]
    },
    {
     "data": {
      "image/png": "[encoded data removed]",
      "text/plain": [
       "<Figure size 432x288 with 1 Axes>"
      ]
     },
     "metadata": {
      "needs_background": "light"
     },
     "output_type": "display_data"
    }
   ],
   "source": [
    "n_features=X_train.shape[1]\n",
    "print(n_features)\n",
    "pca = PCA(n_components=n_features)\n",
    "pca.fit(X_train)\n",
    "plt.plot(np.cumsum(pca.explained_variance_ratio_))\n",
    "plt.xlabel('Number of components')\n",
    "plt.ylabel('Cumulative explained variance')\n",
    "plt.title(\"Explained variance VS n° components\")\n",
    "n_components=np.where(np.cumsum(pca.explained_variance_ratio_)>0.99)[0][0]\n",
    "print(\"Variables needed to explain 99% of variance : \", n_components)\n",
    "print(\"Reducing the size of the dataset\",(round((n_components/n_features)*100,2)),\"%\")"
   ]
  },
  {
   "cell_type": "markdown",
   "metadata": {},
   "source": [
    "## Model Optimization\n",
    "# ************** DRAFT **************\n",
    "in \"parameters\" I would like to put also different possibilities for learning rate and solver at least. Maybe just 3 different learning rates and 2 different solvers, otherwise it could take too long to run"
   ]
  },
  {
   "cell_type": "code",
   "execution_count": 31,
   "metadata": {},
   "outputs": [
    {
     "name": "stdout",
     "output_type": "stream",
     "text": [
      "Fitting 5 folds for each of 6 candidates, totalling 30 fits\n",
      "[CV] hidden_layer_sizes=(50, 100, 50), learning_rate_init=0.1, solver=sgd \n"
     ]
    },
    {
     "name": "stderr",
     "output_type": "stream",
     "text": [
      "[Parallel(n_jobs=1)]: Using backend SequentialBackend with 1 concurrent workers.\n"
     ]
    },
    {
     "name": "stdout",
     "output_type": "stream",
     "text": [
      "[CV]  hidden_layer_sizes=(50, 100, 50), learning_rate_init=0.1, solver=sgd, total= 2.4min\n",
      "[CV] hidden_layer_sizes=(50, 100, 50), learning_rate_init=0.1, solver=sgd \n"
     ]
    },
    {
     "name": "stderr",
     "output_type": "stream",
     "text": [
      "[Parallel(n_jobs=1)]: Done   1 out of   1 | elapsed:  2.4min remaining:    0.0s\n"
     ]
    },
    {
     "name": "stdout",
     "output_type": "stream",
     "text": [
      "[CV]  hidden_layer_sizes=(50, 100, 50), learning_rate_init=0.1, solver=sgd, total= 2.7min\n",
      "[CV] hidden_layer_sizes=(50, 100, 50), learning_rate_init=0.1, solver=sgd \n",
      "[CV]  hidden_layer_sizes=(50, 100, 50), learning_rate_init=0.1, solver=sgd, total= 3.3min\n",
      "[CV] hidden_layer_sizes=(50, 100, 50), learning_rate_init=0.1, solver=sgd \n",
      "[CV]  hidden_layer_sizes=(50, 100, 50), learning_rate_init=0.1, solver=sgd, total= 3.0min\n",
      "[CV] hidden_layer_sizes=(50, 100, 50), learning_rate_init=0.1, solver=sgd \n",
      "[CV]  hidden_layer_sizes=(50, 100, 50), learning_rate_init=0.1, solver=sgd, total= 2.8min\n",
      "[CV] hidden_layer_sizes=(50, 100, 50), learning_rate_init=0.01, solver=sgd \n"
     ]
    },
    {
     "name": "stderr",
     "output_type": "stream",
     "text": [
      "/home/Students/anaconda3/envs/BelleAnalysis/lib/python3.6/site-packages/sklearn/neural_network/multilayer_perceptron.py:566: ConvergenceWarning: Stochastic Optimizer: Maximum iterations (300) reached and the optimization hasn't converged yet.\n",
      "  % self.max_iter, ConvergenceWarning)\n"
     ]
    },
    {
     "name": "stdout",
     "output_type": "stream",
     "text": [
      "[CV]  hidden_layer_sizes=(50, 100, 50), learning_rate_init=0.01, solver=sgd, total= 7.0min\n",
      "[CV] hidden_layer_sizes=(50, 100, 50), learning_rate_init=0.01, solver=sgd \n"
     ]
    },
    {
     "name": "stderr",
     "output_type": "stream",
     "text": [
      "/home/Students/anaconda3/envs/BelleAnalysis/lib/python3.6/site-packages/sklearn/neural_network/multilayer_perceptron.py:566: ConvergenceWarning: Stochastic Optimizer: Maximum iterations (300) reached and the optimization hasn't converged yet.\n",
      "  % self.max_iter, ConvergenceWarning)\n"
     ]
    },
    {
     "name": "stdout",
     "output_type": "stream",
     "text": [
      "[CV]  hidden_layer_sizes=(50, 100, 50), learning_rate_init=0.01, solver=sgd, total= 6.9min\n",
      "[CV] hidden_layer_sizes=(50, 100, 50), learning_rate_init=0.01, solver=sgd \n",
      "[CV]  hidden_layer_sizes=(50, 100, 50), learning_rate_init=0.01, solver=sgd, total= 6.5min\n",
      "[CV] hidden_layer_sizes=(50, 100, 50), learning_rate_init=0.01, solver=sgd \n"
     ]
    },
    {
     "name": "stderr",
     "output_type": "stream",
     "text": [
      "/home/Students/anaconda3/envs/BelleAnalysis/lib/python3.6/site-packages/sklearn/neural_network/multilayer_perceptron.py:566: ConvergenceWarning: Stochastic Optimizer: Maximum iterations (300) reached and the optimization hasn't converged yet.\n",
      "  % self.max_iter, ConvergenceWarning)\n"
     ]
    },
    {
     "name": "stdout",
     "output_type": "stream",
     "text": [
      "[CV]  hidden_layer_sizes=(50, 100, 50), learning_rate_init=0.01, solver=sgd, total= 6.9min\n",
      "[CV] hidden_layer_sizes=(50, 100, 50), learning_rate_init=0.01, solver=sgd \n"
     ]
    },
    {
     "name": "stderr",
     "output_type": "stream",
     "text": [
      "/home/Students/anaconda3/envs/BelleAnalysis/lib/python3.6/site-packages/sklearn/neural_network/multilayer_perceptron.py:566: ConvergenceWarning: Stochastic Optimizer: Maximum iterations (300) reached and the optimization hasn't converged yet.\n",
      "  % self.max_iter, ConvergenceWarning)\n"
     ]
    },
    {
     "name": "stdout",
     "output_type": "stream",
     "text": [
      "[CV]  hidden_layer_sizes=(50, 100, 50), learning_rate_init=0.01, solver=sgd, total= 6.9min\n",
      "[CV] hidden_layer_sizes=(50, 100, 100, 50), learning_rate_init=0.1, solver=sgd \n",
      "[CV]  hidden_layer_sizes=(50, 100, 100, 50), learning_rate_init=0.1, solver=sgd, total= 3.1min\n",
      "[CV] hidden_layer_sizes=(50, 100, 100, 50), learning_rate_init=0.1, solver=sgd \n",
      "[CV]  hidden_layer_sizes=(50, 100, 100, 50), learning_rate_init=0.1, solver=sgd, total= 4.9min\n",
      "[CV] hidden_layer_sizes=(50, 100, 100, 50), learning_rate_init=0.1, solver=sgd \n",
      "[CV]  hidden_layer_sizes=(50, 100, 100, 50), learning_rate_init=0.1, solver=sgd, total= 3.3min\n",
      "[CV] hidden_layer_sizes=(50, 100, 100, 50), learning_rate_init=0.1, solver=sgd \n",
      "[CV]  hidden_layer_sizes=(50, 100, 100, 50), learning_rate_init=0.1, solver=sgd, total= 3.1min\n",
      "[CV] hidden_layer_sizes=(50, 100, 100, 50), learning_rate_init=0.1, solver=sgd \n",
      "[CV]  hidden_layer_sizes=(50, 100, 100, 50), learning_rate_init=0.1, solver=sgd, total= 3.2min\n",
      "[CV] hidden_layer_sizes=(50, 100, 100, 50), learning_rate_init=0.01, solver=sgd \n"
     ]
    },
    {
     "name": "stderr",
     "output_type": "stream",
     "text": [
      "/home/Students/anaconda3/envs/BelleAnalysis/lib/python3.6/site-packages/sklearn/neural_network/multilayer_perceptron.py:566: ConvergenceWarning: Stochastic Optimizer: Maximum iterations (300) reached and the optimization hasn't converged yet.\n",
      "  % self.max_iter, ConvergenceWarning)\n"
     ]
    },
    {
     "name": "stdout",
     "output_type": "stream",
     "text": [
      "[CV]  hidden_layer_sizes=(50, 100, 100, 50), learning_rate_init=0.01, solver=sgd, total= 9.7min\n",
      "[CV] hidden_layer_sizes=(50, 100, 100, 50), learning_rate_init=0.01, solver=sgd \n",
      "[CV]  hidden_layer_sizes=(50, 100, 100, 50), learning_rate_init=0.01, solver=sgd, total= 8.5min\n",
      "[CV] hidden_layer_sizes=(50, 100, 100, 50), learning_rate_init=0.01, solver=sgd \n"
     ]
    },
    {
     "name": "stderr",
     "output_type": "stream",
     "text": [
      "/home/Students/anaconda3/envs/BelleAnalysis/lib/python3.6/site-packages/sklearn/neural_network/multilayer_perceptron.py:566: ConvergenceWarning: Stochastic Optimizer: Maximum iterations (300) reached and the optimization hasn't converged yet.\n",
      "  % self.max_iter, ConvergenceWarning)\n"
     ]
    },
    {
     "name": "stdout",
     "output_type": "stream",
     "text": [
      "[CV]  hidden_layer_sizes=(50, 100, 100, 50), learning_rate_init=0.01, solver=sgd, total= 9.7min\n",
      "[CV] hidden_layer_sizes=(50, 100, 100, 50), learning_rate_init=0.01, solver=sgd \n"
     ]
    },
    {
     "name": "stderr",
     "output_type": "stream",
     "text": [
      "/home/Students/anaconda3/envs/BelleAnalysis/lib/python3.6/site-packages/sklearn/neural_network/multilayer_perceptron.py:566: ConvergenceWarning: Stochastic Optimizer: Maximum iterations (300) reached and the optimization hasn't converged yet.\n",
      "  % self.max_iter, ConvergenceWarning)\n"
     ]
    },
    {
     "name": "stdout",
     "output_type": "stream",
     "text": [
      "[CV]  hidden_layer_sizes=(50, 100, 100, 50), learning_rate_init=0.01, solver=sgd, total= 9.7min\n",
      "[CV] hidden_layer_sizes=(50, 100, 100, 50), learning_rate_init=0.01, solver=sgd \n"
     ]
    },
    {
     "name": "stderr",
     "output_type": "stream",
     "text": [
      "/home/Students/anaconda3/envs/BelleAnalysis/lib/python3.6/site-packages/sklearn/neural_network/multilayer_perceptron.py:566: ConvergenceWarning: Stochastic Optimizer: Maximum iterations (300) reached and the optimization hasn't converged yet.\n",
      "  % self.max_iter, ConvergenceWarning)\n"
     ]
    },
    {
     "name": "stdout",
     "output_type": "stream",
     "text": [
      "[CV]  hidden_layer_sizes=(50, 100, 100, 50), learning_rate_init=0.01, solver=sgd, total= 9.7min\n",
      "[CV] hidden_layer_sizes=(50, 200, 300, 400, 100), learning_rate_init=0.1, solver=sgd \n",
      "[CV]  hidden_layer_sizes=(50, 200, 300, 400, 100), learning_rate_init=0.1, solver=sgd, total= 7.5min\n",
      "[CV] hidden_layer_sizes=(50, 200, 300, 400, 100), learning_rate_init=0.1, solver=sgd \n",
      "[CV]  hidden_layer_sizes=(50, 200, 300, 400, 100), learning_rate_init=0.1, solver=sgd, total= 7.3min\n",
      "[CV] hidden_layer_sizes=(50, 200, 300, 400, 100), learning_rate_init=0.1, solver=sgd \n",
      "[CV]  hidden_layer_sizes=(50, 200, 300, 400, 100), learning_rate_init=0.1, solver=sgd, total= 7.4min\n",
      "[CV] hidden_layer_sizes=(50, 200, 300, 400, 100), learning_rate_init=0.1, solver=sgd \n",
      "[CV]  hidden_layer_sizes=(50, 200, 300, 400, 100), learning_rate_init=0.1, solver=sgd, total= 7.4min\n",
      "[CV] hidden_layer_sizes=(50, 200, 300, 400, 100), learning_rate_init=0.1, solver=sgd \n",
      "[CV]  hidden_layer_sizes=(50, 200, 300, 400, 100), learning_rate_init=0.1, solver=sgd, total= 7.5min\n",
      "[CV] hidden_layer_sizes=(50, 200, 300, 400, 100), learning_rate_init=0.01, solver=sgd \n",
      "[CV]  hidden_layer_sizes=(50, 200, 300, 400, 100), learning_rate_init=0.01, solver=sgd, total=22.8min\n",
      "[CV] hidden_layer_sizes=(50, 200, 300, 400, 100), learning_rate_init=0.01, solver=sgd \n",
      "[CV]  hidden_layer_sizes=(50, 200, 300, 400, 100), learning_rate_init=0.01, solver=sgd, total=21.5min\n",
      "[CV] hidden_layer_sizes=(50, 200, 300, 400, 100), learning_rate_init=0.01, solver=sgd \n",
      "[CV]  hidden_layer_sizes=(50, 200, 300, 400, 100), learning_rate_init=0.01, solver=sgd, total=28.1min\n",
      "[CV] hidden_layer_sizes=(50, 200, 300, 400, 100), learning_rate_init=0.01, solver=sgd \n",
      "[CV]  hidden_layer_sizes=(50, 200, 300, 400, 100), learning_rate_init=0.01, solver=sgd, total=19.8min\n",
      "[CV] hidden_layer_sizes=(50, 200, 300, 400, 100), learning_rate_init=0.01, solver=sgd \n",
      "[CV]  hidden_layer_sizes=(50, 200, 300, 400, 100), learning_rate_init=0.01, solver=sgd, total=24.9min\n"
     ]
    },
    {
     "name": "stderr",
     "output_type": "stream",
     "text": [
      "[Parallel(n_jobs=1)]: Done  30 out of  30 | elapsed: 267.8min finished\n"
     ]
    },
    {
     "name": "stdout",
     "output_type": "stream",
     "text": [
      "CPU times: user 17h 15min 44s, sys: 18h 55min 22s, total: 1d 12h 11min 6s\n",
      "Wall time: 4h 32min 25s\n"
     ]
    }
   ],
   "source": [
    "%%time\n",
    "parameters = {'hidden_layer_sizes': [(50,100,50,), (50,100,100,50,), (50, 200, 300, 400,100)],\n",
    "              'solver': ['sgd'],\n",
    "              #'learning_rate_init': [0.1, 0.01, 0.001]\n",
    "              'learning_rate_init': [0.1, 0.01]\n",
    "             }\n",
    "\n",
    "\n",
    "mlp = MLPClassifier(max_iter=300, alpha=1e-4,\n",
    "                    tol=1e-4, random_state=n_seed)\n",
    "\n",
    "clf= GridSearchCV(mlp,param_grid=parameters,verbose=2,cv=5,return_train_score=True)\n",
    "\n",
    "clf.fit(X_train, Y_train)"
   ]
  },
  {
   "cell_type": "code",
   "execution_count": 69,
   "metadata": {},
   "outputs": [
    {
     "name": "stdout",
     "output_type": "stream",
     "text": [
      "RESULTS FOR NN\n",
      "\n",
      "Best parameters set found:\n",
      "{'hidden_layer_sizes': (50, 100, 100, 50), 'learning_rate_init': 0.1, 'solver': 'sgd'}\n",
      "Score with best parameters:\n",
      "0.6112577537283885\n",
      "\n",
      "All scores on the grid:\n"
     ]
    },
    {
     "data": {
      "text/html": [
       "<div>\n",
       "<style scoped>\n",
       "    .dataframe tbody tr th:only-of-type {\n",
       "        vertical-align: middle;\n",
       "    }\n",
       "\n",
       "    .dataframe tbody tr th {\n",
       "        vertical-align: top;\n",
       "    }\n",
       "\n",
       "    .dataframe thead th {\n",
       "        text-align: right;\n",
       "    }\n",
       "</style>\n",
       "<table border=\"1\" class=\"dataframe\">\n",
       "  <thead>\n",
       "    <tr style=\"text-align: right;\">\n",
       "      <th></th>\n",
       "      <th>param_hidden_layer_sizes</th>\n",
       "      <th>param_solver</th>\n",
       "      <th>param_learning_rate_init</th>\n",
       "      <th>mean_test_score</th>\n",
       "      <th>mean_train_score</th>\n",
       "    </tr>\n",
       "  </thead>\n",
       "  <tbody>\n",
       "    <tr>\n",
       "      <th>0</th>\n",
       "      <td>(50, 100, 50)</td>\n",
       "      <td>sgd</td>\n",
       "      <td>0.1</td>\n",
       "      <td>0.610400</td>\n",
       "      <td>0.673821</td>\n",
       "    </tr>\n",
       "    <tr>\n",
       "      <th>1</th>\n",
       "      <td>(50, 100, 50)</td>\n",
       "      <td>sgd</td>\n",
       "      <td>0.01</td>\n",
       "      <td>0.560050</td>\n",
       "      <td>0.722318</td>\n",
       "    </tr>\n",
       "    <tr>\n",
       "      <th>2</th>\n",
       "      <td>(50, 100, 100, 50)</td>\n",
       "      <td>sgd</td>\n",
       "      <td>0.1</td>\n",
       "      <td>0.611258</td>\n",
       "      <td>0.676557</td>\n",
       "    </tr>\n",
       "    <tr>\n",
       "      <th>3</th>\n",
       "      <td>(50, 100, 100, 50)</td>\n",
       "      <td>sgd</td>\n",
       "      <td>0.01</td>\n",
       "      <td>0.540229</td>\n",
       "      <td>0.783711</td>\n",
       "    </tr>\n",
       "    <tr>\n",
       "      <th>4</th>\n",
       "      <td>(50, 200, 300, 400, 100)</td>\n",
       "      <td>sgd</td>\n",
       "      <td>0.1</td>\n",
       "      <td>0.602301</td>\n",
       "      <td>0.691003</td>\n",
       "    </tr>\n",
       "    <tr>\n",
       "      <th>5</th>\n",
       "      <td>(50, 200, 300, 400, 100)</td>\n",
       "      <td>sgd</td>\n",
       "      <td>0.01</td>\n",
       "      <td>0.541801</td>\n",
       "      <td>0.983672</td>\n",
       "    </tr>\n",
       "  </tbody>\n",
       "</table>\n",
       "</div>"
      ],
      "text/plain": [
       "   param_hidden_layer_sizes param_solver param_learning_rate_init  \\\n",
       "0             (50, 100, 50)          sgd                      0.1   \n",
       "1             (50, 100, 50)          sgd                     0.01   \n",
       "2        (50, 100, 100, 50)          sgd                      0.1   \n",
       "3        (50, 100, 100, 50)          sgd                     0.01   \n",
       "4  (50, 200, 300, 400, 100)          sgd                      0.1   \n",
       "5  (50, 200, 300, 400, 100)          sgd                     0.01   \n",
       "\n",
       "   mean_test_score  mean_train_score  \n",
       "0         0.610400          0.673821  \n",
       "1         0.560050          0.722318  \n",
       "2         0.611258          0.676557  \n",
       "3         0.540229          0.783711  \n",
       "4         0.602301          0.691003  \n",
       "5         0.541801          0.983672  "
      ]
     },
     "execution_count": 69,
     "metadata": {},
     "output_type": "execute_result"
    }
   ],
   "source": [
    "print ('RESULTS FOR NN\\n')\n",
    "print(\"Best parameters set found:\")\n",
    "print(clf.best_params_)\n",
    "\n",
    "print(\"Score with best parameters:\")\n",
    "print(clf.best_score_)\n",
    "\n",
    "print(\"\\nAll scores on the grid:\")\n",
    "scores=pd.DataFrame(clf.cv_results_)\n",
    "scores[['param_hidden_layer_sizes', 'param_solver', 'param_learning_rate_init', 'mean_test_score', 'mean_train_score']]"
   ]
  },
  {
   "cell_type": "code",
   "execution_count": 70,
   "metadata": {},
   "outputs": [
    {
     "name": "stdout",
     "output_type": "stream",
     "text": [
      "[[4.61679530e-01 3.54981944e-03 5.38095884e-01]\n",
      " [3.76954787e-01 3.68779889e-03 6.20134652e-01]\n",
      " [4.25119659e-02 4.99725581e-04 9.58158748e-01]\n",
      " ...\n",
      " [1.42465743e-01 1.41149449e-03 8.57514864e-01]\n",
      " [7.04219543e-02 8.04687548e-04 9.28329878e-01]\n",
      " [1.45228639e-01 1.40272459e-03 8.54941954e-01]]\n",
      "\n",
      "RESULTS FOR BEST NN\n",
      "\n",
      "Best NN training error: 0.336323\n",
      "Best NN validation error: 0.377346\n",
      "CPU times: user 16min 7s, sys: 21min 31s, total: 37min 38s\n",
      "Wall time: 4min 43s\n"
     ]
    }
   ],
   "source": [
    "%%time\n",
    "#get training and validation error for the best NN model from CV\n",
    "best_mlp = MLPClassifier(hidden_layer_sizes=clf.best_params_['hidden_layer_sizes'], max_iter=300, alpha=1e-4,\n",
    "                    solver=clf.best_params_['solver'], tol=1e-4, random_state=n_seed,\n",
    "                    learning_rate_init=clf.best_params_['learning_rate_init'])\n",
    "\n",
    "best_mlp.fit(X_train, Y_train)\n",
    "\n",
    "print(best_mlp.predict_proba(X_train))\n",
    "\n",
    "training_error = 1. - best_mlp.score(X_train,Y_train)\n",
    "validation_error = 1. - best_mlp.score(X_validation,Y_validation)\n",
    "\n",
    "print ('\\nRESULTS FOR BEST NN\\n')\n",
    "\n",
    "print (\"Best NN training error: %f\" % training_error)\n",
    "print (\"Best NN validation error: %f\" % validation_error)"
   ]
  },
  {
   "cell_type": "code",
   "execution_count": 71,
   "metadata": {},
   "outputs": [
    {
     "name": "stdout",
     "output_type": "stream",
     "text": [
      "[0 0 1 ... 1 0 0]\n"
     ]
    },
    {
     "data": {
      "image/png": "[encoded data removed]",
      "text/plain": [
       "<Figure size 432x288 with 1 Axes>"
      ]
     },
     "metadata": {
      "needs_background": "light"
     },
     "output_type": "display_data"
    },
    {
     "data": {
      "image/png": "[encoded data removed]",
      "text/plain": [
       "<Figure size 432x288 with 1 Axes>"
      ]
     },
     "metadata": {
      "needs_background": "light"
     },
     "output_type": "display_data"
    },
    {
     "name": "stdout",
     "output_type": "stream",
     "text": [
      "CPU times: user 1.89 s, sys: 1.67 s, total: 3.56 s\n",
      "Wall time: 1.18 s\n"
     ]
    }
   ],
   "source": [
    "%%time\n",
    "#code from https://scikit-learn.org/0.15/auto_examples/plot_roc.html\n",
    "#from itertools import cycle\n",
    "\n",
    "y_score = best_mlp.predict_proba(X_validation)\n",
    "\n",
    "# Compute ROC curve and ROC area for each class\n",
    "fpr = dict()\n",
    "tpr = dict()\n",
    "roc_auc = dict()\n",
    "for i in range(n_classes):\n",
    "    fpr[i], tpr[i], _ = roc_curve(Y_validation[:, i], y_score[:, i])\n",
    "    roc_auc[i] = auc(fpr[i], tpr[i])\n",
    "\n",
    "# Compute micro-average ROC curve and ROC area\n",
    "fpr[\"micro\"], tpr[\"micro\"], _ = roc_curve(Y_validation.ravel(), y_score.ravel())\n",
    "roc_auc[\"micro\"] = auc(fpr[\"micro\"], tpr[\"micro\"])\n",
    "print(Y_validation.ravel())\n",
    "# Plot of a ROC curve for a specific class\n",
    "plt.figure()\n",
    "plt.plot(fpr[2], tpr[2], label='ROC curve (area = %0.2f)' % roc_auc[2])\n",
    "plt.plot([0, 1], [0, 1], 'k--')\n",
    "plt.xlim([0.0, 1.0])\n",
    "plt.ylim([0.0, 1.05])\n",
    "plt.xlabel('False Positive Rate')\n",
    "plt.ylabel('True Positive Rate')\n",
    "plt.title('Receiver operating characteristic example')\n",
    "plt.legend(loc=\"lower right\")\n",
    "plt.show()\n",
    "\n",
    "# Plot ROC curve\n",
    "plt.figure()\n",
    "plt.plot(fpr[\"micro\"], tpr[\"micro\"],\n",
    "         label='micro-average ROC curve (area = {0:0.2f})'\n",
    "               ''.format(roc_auc[\"micro\"]))\n",
    "for i in range(n_classes):\n",
    "    plt.plot(fpr[i], tpr[i], label='ROC curve of class {0} (area = {1:0.2f})'\n",
    "                                   ''.format(i, roc_auc[i]))\n",
    "\n",
    "plt.plot([0, 1], [0, 1], 'k--')\n",
    "plt.xlim([0.0, 1.0])\n",
    "plt.ylim([0.0, 1.05])\n",
    "plt.xlabel('False Positive Rate')\n",
    "plt.ylabel('True Positive Rate')\n",
    "plt.title('Some extension of Receiver operating characteristic to multi-class')\n",
    "plt.legend(loc=\"best\")\n",
    "plt.show()"
   ]
  },
  {
   "cell_type": "code",
   "execution_count": 73,
   "metadata": {},
   "outputs": [],
   "source": [
    "def plot_confusion_matrix(cm, classes,\n",
    "                          normalize=True,\n",
    "                          title='Confusion matrix',\n",
    "                          cmap=plt.cm.Blues):\n",
    "    \"\"\"\n",
    "    This function prints and plots the confusion matrix.\n",
    "    Normalization can be applied by setting `normalize=True`.\n",
    "    \"\"\"\n",
    "    if normalize:\n",
    "        cm = cm.astype('float') / cm.sum(axis=1)[:, np.newaxis]\n",
    "        print(\"Normalized confusion matrix\")\n",
    "    else:\n",
    "        print('Confusion matrix, without normalization')\n",
    "\n",
    "    print(cm)\n",
    "    fig = plt.figure()\n",
    "    plt.imshow(cm, interpolation='nearest', cmap=cmap)\n",
    "    plt.title(title)\n",
    "    plt.colorbar()\n",
    "    tick_marks = np.arange(len(classes))\n",
    "    plt.xticks(tick_marks, classes, rotation=45)\n",
    "    plt.yticks(tick_marks, classes)\n",
    "\n",
    "    fmt = '.2f' if normalize else 'd'\n",
    "    thresh = cm.max() / 2.\n",
    "    for i, j in itertools.product(range(cm.shape[0]), range(cm.shape[1])):\n",
    "        plt.text(j, i, format(cm[i, j], fmt),\n",
    "                 horizontalalignment=\"center\",\n",
    "                 color=\"white\" if cm[i, j] > thresh else \"black\")\n",
    "\n",
    "    plt.ylabel('True label')\n",
    "    plt.xlabel('Predicted label')\n",
    "    fig.set_size_inches(13.5, 10.5)\n",
    "    plt.tight_layout()"
   ]
  },
  {
   "cell_type": "code",
   "execution_count": 74,
   "metadata": {},
   "outputs": [
    {
     "name": "stdout",
     "output_type": "stream",
     "text": [
      "CPU times: user 2.18 s, sys: 2.73 s, total: 4.91 s\n",
      "Wall time: 642 ms\n"
     ]
    }
   ],
   "source": [
    "%%time\n",
    "from sklearn.metrics import confusion_matrix\n",
    "Y_train_predict = best_mlp.predict_proba(X_train)\n",
    "Y_test_predict = best_mlp.predict_proba(X_test)\n",
    "Y_test_single_col=np.where(Y_test==1)[1]\n",
    "Y_test_mo=pd.get_dummies(Y_test_single_col[:])\n",
    "Y_test_predict_mo=Y_test_predict.round()\n",
    "cnf_matrix = confusion_matrix(Y_test_mo.values.argmax(axis=1), Y_test_predict_mo.argmax(axis=1))"
   ]
  },
  {
   "cell_type": "code",
   "execution_count": 75,
   "metadata": {},
   "outputs": [
    {
     "name": "stdout",
     "output_type": "stream",
     "text": [
      "Normalized confusion matrix\n",
      "[[0.05287041 0.         0.94712959]\n",
      " [0.07486631 0.         0.92513369]\n",
      " [0.05064632 0.         0.94935368]]\n"
     ]
    },
    {
     "data": {
      "image/png": "[encoded data removed]",
      "text/plain": [
       "<Figure size 972x756 with 2 Axes>"
      ]
     },
     "metadata": {
      "needs_background": "light"
     },
     "output_type": "display_data"
    }
   ],
   "source": [
    "plot_confusion_matrix(cnf_matrix, classes=['Signal', 'Peaking_bkg', 'Continuum_bkg'],title='Confusion matrix, with normalization')"
   ]
  },
  {
   "cell_type": "markdown",
   "metadata": {},
   "source": [
    "## Feature importance Xgboost with original variable "
   ]
  },
  {
   "cell_type": "code",
   "execution_count": 76,
   "metadata": {},
   "outputs": [],
   "source": [
    "Y_train_single_col=np.where(Y_train==1)[1]"
   ]
  },
  {
   "cell_type": "code",
   "execution_count": 81,
   "metadata": {},
   "outputs": [
    {
     "data": {
      "text/plain": [
       "array([[ 1.79328628, -0.19047486,  2.33904048, ...,  0.10657576,\n",
       "        -1.33835407, -1.90793806],\n",
       "       [ 0.37899578,  0.37160394,  0.30942319, ..., -0.041212  ,\n",
       "        -0.60352462, -0.29832608],\n",
       "       [ 1.95947723,  0.44090796,  1.53123038, ...,  0.7338494 ,\n",
       "        -1.23017975, -1.0295715 ],\n",
       "       ...,\n",
       "       [-0.78820965,  0.02770535, -0.8794371 , ...,  0.10427129,\n",
       "        -0.35468259, -0.15000728],\n",
       "       [ 0.45139961,  0.02109828,  0.4537796 , ...,  1.18925564,\n",
       "         0.54130856,  0.35290078],\n",
       "       [-1.23830029,  0.0650578 , -1.3142152 , ...,  1.27442919,\n",
       "        -1.16151008, -0.86261787]])"
      ]
     },
     "execution_count": 81,
     "metadata": {},
     "output_type": "execute_result"
    }
   ],
   "source": [
    "X_train"
   ]
  },
  {
   "cell_type": "code",
   "execution_count": 86,
   "metadata": {},
   "outputs": [
    {
     "name": "stdout",
     "output_type": "stream",
     "text": [
      "Training on 166694 examples with 84 features\n"
     ]
    },
    {
     "ename": "KeyboardInterrupt",
     "evalue": "",
     "output_type": "error",
     "traceback": [
      "\u001b[0;31m---------------------------------------------------------------------------\u001b[0m",
      "\u001b[0;31mKeyboardInterrupt\u001b[0m                         Traceback (most recent call last)",
      "\u001b[0;32m<ipython-input-86-63bfac1f40c8>\u001b[0m in \u001b[0;36m<module>\u001b[0;34m\u001b[0m\n\u001b[1;32m     13\u001b[0m \u001b[0;31m#Train and time classifier\u001b[0m\u001b[0;34m\u001b[0m\u001b[0;34m\u001b[0m\u001b[0;34m\u001b[0m\u001b[0m\n\u001b[1;32m     14\u001b[0m \u001b[0mstart_time\u001b[0m \u001b[0;34m=\u001b[0m \u001b[0mtime\u001b[0m\u001b[0;34m.\u001b[0m\u001b[0mtime\u001b[0m\u001b[0;34m(\u001b[0m\u001b[0;34m)\u001b[0m\u001b[0;34m\u001b[0m\u001b[0;34m\u001b[0m\u001b[0m\n\u001b[0;32m---> 15\u001b[0;31m \u001b[0mXGBclassifier\u001b[0m\u001b[0;34m.\u001b[0m\u001b[0mfit\u001b[0m\u001b[0;34m(\u001b[0m\u001b[0mX_train\u001b[0m\u001b[0;34m,\u001b[0m \u001b[0mY_train_single_col\u001b[0m\u001b[0;34m)\u001b[0m\u001b[0;34m\u001b[0m\u001b[0;34m\u001b[0m\u001b[0m\n\u001b[0m\u001b[1;32m     16\u001b[0m \u001b[0mrun_time\u001b[0m \u001b[0;34m=\u001b[0m \u001b[0mtime\u001b[0m\u001b[0;34m.\u001b[0m\u001b[0mtime\u001b[0m\u001b[0;34m(\u001b[0m\u001b[0;34m)\u001b[0m \u001b[0;34m-\u001b[0m \u001b[0mstart_time\u001b[0m\u001b[0;34m\u001b[0m\u001b[0;34m\u001b[0m\u001b[0m\n\u001b[1;32m     17\u001b[0m \u001b[0;34m\u001b[0m\u001b[0m\n",
      "\u001b[0;32m~/anaconda3/envs/BelleAnalysis/lib/python3.6/site-packages/xgboost/sklearn.py\u001b[0m in \u001b[0;36mfit\u001b[0;34m(self, X, y, sample_weight, eval_set, eval_metric, early_stopping_rounds, verbose, xgb_model, sample_weight_eval_set, callbacks)\u001b[0m\n\u001b[1;32m    730\u001b[0m                               \u001b[0mevals_result\u001b[0m\u001b[0;34m=\u001b[0m\u001b[0mevals_result\u001b[0m\u001b[0;34m,\u001b[0m \u001b[0mobj\u001b[0m\u001b[0;34m=\u001b[0m\u001b[0mobj\u001b[0m\u001b[0;34m,\u001b[0m \u001b[0mfeval\u001b[0m\u001b[0;34m=\u001b[0m\u001b[0mfeval\u001b[0m\u001b[0;34m,\u001b[0m\u001b[0;34m\u001b[0m\u001b[0;34m\u001b[0m\u001b[0m\n\u001b[1;32m    731\u001b[0m                               \u001b[0mverbose_eval\u001b[0m\u001b[0;34m=\u001b[0m\u001b[0mverbose\u001b[0m\u001b[0;34m,\u001b[0m \u001b[0mxgb_model\u001b[0m\u001b[0;34m=\u001b[0m\u001b[0mxgb_model\u001b[0m\u001b[0;34m,\u001b[0m\u001b[0;34m\u001b[0m\u001b[0;34m\u001b[0m\u001b[0m\n\u001b[0;32m--> 732\u001b[0;31m                               callbacks=callbacks)\n\u001b[0m\u001b[1;32m    733\u001b[0m \u001b[0;34m\u001b[0m\u001b[0m\n\u001b[1;32m    734\u001b[0m         \u001b[0mself\u001b[0m\u001b[0;34m.\u001b[0m\u001b[0mobjective\u001b[0m \u001b[0;34m=\u001b[0m \u001b[0mxgb_options\u001b[0m\u001b[0;34m[\u001b[0m\u001b[0;34m\"objective\"\u001b[0m\u001b[0;34m]\u001b[0m\u001b[0;34m\u001b[0m\u001b[0;34m\u001b[0m\u001b[0m\n",
      "\u001b[0;32m~/anaconda3/envs/BelleAnalysis/lib/python3.6/site-packages/xgboost/training.py\u001b[0m in \u001b[0;36mtrain\u001b[0;34m(params, dtrain, num_boost_round, evals, obj, feval, maximize, early_stopping_rounds, evals_result, verbose_eval, xgb_model, callbacks, learning_rates)\u001b[0m\n\u001b[1;32m    214\u001b[0m                            \u001b[0mevals\u001b[0m\u001b[0;34m=\u001b[0m\u001b[0mevals\u001b[0m\u001b[0;34m,\u001b[0m\u001b[0;34m\u001b[0m\u001b[0;34m\u001b[0m\u001b[0m\n\u001b[1;32m    215\u001b[0m                            \u001b[0mobj\u001b[0m\u001b[0;34m=\u001b[0m\u001b[0mobj\u001b[0m\u001b[0;34m,\u001b[0m \u001b[0mfeval\u001b[0m\u001b[0;34m=\u001b[0m\u001b[0mfeval\u001b[0m\u001b[0;34m,\u001b[0m\u001b[0;34m\u001b[0m\u001b[0;34m\u001b[0m\u001b[0m\n\u001b[0;32m--> 216\u001b[0;31m                            xgb_model=xgb_model, callbacks=callbacks)\n\u001b[0m\u001b[1;32m    217\u001b[0m \u001b[0;34m\u001b[0m\u001b[0m\n\u001b[1;32m    218\u001b[0m \u001b[0;34m\u001b[0m\u001b[0m\n",
      "\u001b[0;32m~/anaconda3/envs/BelleAnalysis/lib/python3.6/site-packages/xgboost/training.py\u001b[0m in \u001b[0;36m_train_internal\u001b[0;34m(params, dtrain, num_boost_round, evals, obj, feval, xgb_model, callbacks)\u001b[0m\n\u001b[1;32m     72\u001b[0m         \u001b[0;31m# Skip the first update if it is a recovery step.\u001b[0m\u001b[0;34m\u001b[0m\u001b[0;34m\u001b[0m\u001b[0;34m\u001b[0m\u001b[0m\n\u001b[1;32m     73\u001b[0m         \u001b[0;32mif\u001b[0m \u001b[0mversion\u001b[0m \u001b[0;34m%\u001b[0m \u001b[0;36m2\u001b[0m \u001b[0;34m==\u001b[0m \u001b[0;36m0\u001b[0m\u001b[0;34m:\u001b[0m\u001b[0;34m\u001b[0m\u001b[0;34m\u001b[0m\u001b[0m\n\u001b[0;32m---> 74\u001b[0;31m             \u001b[0mbst\u001b[0m\u001b[0;34m.\u001b[0m\u001b[0mupdate\u001b[0m\u001b[0;34m(\u001b[0m\u001b[0mdtrain\u001b[0m\u001b[0;34m,\u001b[0m \u001b[0mi\u001b[0m\u001b[0;34m,\u001b[0m \u001b[0mobj\u001b[0m\u001b[0;34m)\u001b[0m\u001b[0;34m\u001b[0m\u001b[0;34m\u001b[0m\u001b[0m\n\u001b[0m\u001b[1;32m     75\u001b[0m             \u001b[0mbst\u001b[0m\u001b[0;34m.\u001b[0m\u001b[0msave_rabit_checkpoint\u001b[0m\u001b[0;34m(\u001b[0m\u001b[0;34m)\u001b[0m\u001b[0;34m\u001b[0m\u001b[0;34m\u001b[0m\u001b[0m\n\u001b[1;32m     76\u001b[0m             \u001b[0mversion\u001b[0m \u001b[0;34m+=\u001b[0m \u001b[0;36m1\u001b[0m\u001b[0;34m\u001b[0m\u001b[0;34m\u001b[0m\u001b[0m\n",
      "\u001b[0;32m~/anaconda3/envs/BelleAnalysis/lib/python3.6/site-packages/xgboost/core.py\u001b[0m in \u001b[0;36mupdate\u001b[0;34m(self, dtrain, iteration, fobj)\u001b[0m\n\u001b[1;32m   1107\u001b[0m         \u001b[0;32mif\u001b[0m \u001b[0mfobj\u001b[0m \u001b[0;32mis\u001b[0m \u001b[0;32mNone\u001b[0m\u001b[0;34m:\u001b[0m\u001b[0;34m\u001b[0m\u001b[0;34m\u001b[0m\u001b[0m\n\u001b[1;32m   1108\u001b[0m             _check_call(_LIB.XGBoosterUpdateOneIter(self.handle, ctypes.c_int(iteration),\n\u001b[0;32m-> 1109\u001b[0;31m                                                     dtrain.handle))\n\u001b[0m\u001b[1;32m   1110\u001b[0m         \u001b[0;32melse\u001b[0m\u001b[0;34m:\u001b[0m\u001b[0;34m\u001b[0m\u001b[0;34m\u001b[0m\u001b[0m\n\u001b[1;32m   1111\u001b[0m             \u001b[0mpred\u001b[0m \u001b[0;34m=\u001b[0m \u001b[0mself\u001b[0m\u001b[0;34m.\u001b[0m\u001b[0mpredict\u001b[0m\u001b[0;34m(\u001b[0m\u001b[0mdtrain\u001b[0m\u001b[0;34m)\u001b[0m\u001b[0;34m\u001b[0m\u001b[0;34m\u001b[0m\u001b[0m\n",
      "\u001b[0;31mKeyboardInterrupt\u001b[0m: "
     ]
    }
   ],
   "source": [
    "# For next cell\n",
    "from sklearn.metrics import roc_auc_score\n",
    "import time\n",
    "import xgboost as xgb\n",
    "import warnings\n",
    "\n",
    "warnings.filterwarnings(action='ignore', category=DeprecationWarning)\n",
    "\n",
    "print(\"Training on %i examples with %i features\"%X_train.shape)\n",
    "\n",
    "#Use default parameters and train on full dataset\n",
    "XGBclassifier = xgb.sklearn.XGBClassifier(nthread=-1, seed=1, n_estimators=1000,n_jobs = 1,objective = 'multi:softmax',silent=1,tree_method='approx')\n",
    "#Train and time classifier\n",
    "start_time = time.time()\n",
    "XGBclassifier.fit(X_train, Y_train_single_col)\n",
    "run_time = time.time() - start_time\n",
    "\n",
    "#Make Predictions\n",
    "print(\"Predicting on %i examples with %i features\\n\"%X_test.shape)\n",
    "y_pred= XGBclassifier.predict(X_test)\n",
    "\n",
    "#Print Results\n",
    "print(\"Model Accuracy with all features: {:.2f}%\".format(100*XGBclassifier.score(X_test, Y_test_single_col)))"
   ]
  },
  {
   "cell_type": "code",
   "execution_count": null,
   "metadata": {},
   "outputs": [],
   "source": [
    "fig=plt.figure()\n",
    "fig.set_size_inches(30.5, 20.5)\n",
    "plt.ylabel(\"Features\",fontsize=20)\n",
    "plt.xlabel(\"F score\",fontsize=20)\n",
    "plt.tick_params(labelsize=18)\n",
    "xgb.plot_importance(XGBclassifier, ax=plt.gca())\n",
    "fig.subplots_adjust(left=0.4)  #\n",
    "#fig.savefig('SUSYXGBoost1.pdf')"
   ]
  },
  {
   "cell_type": "code",
   "execution_count": null,
   "metadata": {},
   "outputs": [],
   "source": []
  }
 ],
 "metadata": {
  "kernelspec": {
   "display_name": "Python 3",
   "language": "python",
   "name": "python3"
  },
  "language_info": {
   "codemirror_mode": {
    "name": "ipython",
    "version": 3
   },
   "file_extension": ".py",
   "mimetype": "text/x-python",
   "name": "python",
   "nbconvert_exporter": "python",
   "pygments_lexer": "ipython3",
   "version": "3.6.8"
  }
 },
 "nbformat": 4,
 "nbformat_minor": 2
}
