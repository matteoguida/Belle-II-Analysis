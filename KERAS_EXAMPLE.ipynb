{
 "cells": [
  {
   "cell_type": "code",
   "execution_count": 1,
   "metadata": {},
   "outputs": [
    {
     "name": "stdout",
     "output_type": "stream",
     "text": [
      "Welcome to JupyROOT 6.16/00\n"
     ]
    },
    {
     "name": "stderr",
     "output_type": "stream",
     "text": [
      "Using TensorFlow backend.\n"
     ]
    }
   ],
   "source": [
    "import pandas as pd\n",
    "import os\n",
    "import itertools\n",
    "from root_pandas import read_root\n",
    "#import tensorflow as tf\n",
    "import seaborn as sn\n",
    "import dask.dataframe as dd\n",
    "import matplotlib.pyplot as plt \n",
    "# import dask.array as da\n",
    "import numpy as np\n",
    "import time\n",
    "from keras.models import Sequential\n",
    "from keras.layers import Dense\n",
    "from sklearn.model_selection import cross_val_score\n",
    "from keras.wrappers.scikit_learn import KerasClassifier\n",
    "from sklearn.model_selection import StratifiedKFold"
   ]
  },
  {
   "cell_type": "code",
   "execution_count": 2,
   "metadata": {},
   "outputs": [
    {
     "name": "stderr",
     "output_type": "stream",
     "text": [
      "/home/guida/anaconda3/envs/myrootenv/lib/python3.7/site-packages/root_pandas/readwrite.py:320: FutureWarning: '.reindex_axis' is deprecated and will be removed in a future version. Use '.reindex' instead.\n",
      "  df = df.reindex_axis(columns, axis=1, copy=False)\n"
     ]
    }
   ],
   "source": [
    "#Read background and signal samples from ROOT files\n",
    "#BACKGROUND\n",
    "'''CONTINUUM BACKGROUND'''\n",
    "Continuum_bkg = pd.DataFrame() #empty dataframe to contain continuum bkg samples\n",
    "#export all continuum bkg root files to a single pandas dataframe\n",
    "for file in os.listdir(\"../DATA/Background/Continuum/\"):\n",
    "    continuum_temp = pd.DataFrame()\n",
    "    continuum_temp = read_root(\"../DATA/Background/Continuum/\" + file, 'B0')\n",
    "    frames=[Continuum_bkg, continuum_temp]\n",
    "    Continuum_bkg= pd.concat(frames, ignore_index=True)"
   ]
  },
  {
   "cell_type": "code",
   "execution_count": 3,
   "metadata": {},
   "outputs": [],
   "source": [
    "'''PEAKING BACKGROUND'''\n",
    "Peaking_bkg = pd.DataFrame() #empty dataframe to contain peaked bkg samples\n",
    "#export all peaking bkg root files to a single pandas dataframe\n",
    "for file in os.listdir(\"../DATA/Background/Peaking/\"):\n",
    "    peaking_temp = pd.DataFrame()\n",
    "    peaking_temp = read_root(\"../DATA/Background/Peaking/\" + file, 'B0')\n",
    "    frames=[Peaking_bkg, peaking_temp]\n",
    "    Peaking_bkg= pd.concat(frames)    "
   ]
  },
  {
   "cell_type": "code",
   "execution_count": 4,
   "metadata": {},
   "outputs": [
    {
     "name": "stdout",
     "output_type": "stream",
     "text": [
      "Signal shape :  (41243, 391)\n",
      "Continuum_bkg shape :  (3429, 391)\n",
      "Peaking_bkg shape :  (249, 391)\n"
     ]
    }
   ],
   "source": [
    "'''SIGNAL'''\n",
    "Signal = pd.DataFrame() #empty dataframe to contain signal samples\n",
    "#export all peaking bkg root files to a single pandas dataframe\n",
    "for file in os.listdir(\"../DATA/Signal/\"):\n",
    "    signal_temp = pd.DataFrame()\n",
    "    signal_temp = read_root(\"../DATA/Signal/\" + file, 'B0')\n",
    "    frames=[Signal, signal_temp]\n",
    "    Signal= pd.concat(frames, ignore_index=True) \n",
    "\n",
    "\n",
    "#Signal: require B0_isSignal == True\n",
    "Signal=Signal[Signal['B0_isSignal']== True]\n",
    "#reset row indexing\n",
    "Signal.reset_index(drop=True, inplace=True)\n",
    "print(\"Signal shape : \",Signal.shape)\n",
    "\n",
    "#Continuum: require B0_isContinuumEvent == True\n",
    "Continuum_bkg=Continuum_bkg[Continuum_bkg['B0_isContinuumEvent']== True]\n",
    "#reset row indexing\n",
    "Continuum_bkg.reset_index(drop=True, inplace=True)\n",
    "print(\"Continuum_bkg shape : \",Continuum_bkg.shape)\n",
    "\n",
    "#Peaking: require B0_isNotContinuumEvent == True\n",
    "Peaking_bkg=Peaking_bkg[Peaking_bkg['B0_isNotContinuumEvent']== True]\n",
    "#reset row indexing\n",
    "Peaking_bkg.reset_index(drop=True, inplace=True)\n",
    "print(\"Peaking_bkg shape : \",Peaking_bkg.shape)\n",
    "\n",
    "\n",
    "# '''DNN Error: Input contains NaN, infinity or a value too large for dtype('float64')'''\n",
    "# #Check if there are NaN in datasets (see below why)\n",
    "# Peaking_bkg.replace([np.inf, -np.inf], np.nan)\n",
    "# Continuum_bkg.replace([np.inf, -np.inf], np.nan)\n",
    "# Signal.replace([np.inf, -np.inf], np.nan)\n",
    "# N_peak=Peaking_bkg.isnull().T.any().T.sum()\n",
    "# print(N_peak)\n",
    "# N_cont=Continuum_bkg.isnull().T.any().T.sum()\n",
    "# print(N_cont)\n",
    "# N_sig=Signal.isnull().T.any().T.sum()\n",
    "# print(N_sig)\n",
    "\n",
    "\n",
    "Important_variables=[\n",
    "\"B0_Pcms\",\"B0_P4cms\",\n",
    "\"B0_etap_Pcms\" ,\n",
    "\"B0_etap_P4cms\",\n",
    "\"B0_etap_eta_gamma0_Pcms\",\n",
    "\"B0_etap_eta_gamma0_P4cms\",   \n",
    "\"B0_etap_eta_gamma1_Pcms\",  \n",
    "\"B0_etap_eta_gamma1_P4cms\",            \n",
    "\"B0_etap_pi1_Pcms\",                     \n",
    "\"B0_K_S0_P4cms\",\n",
    "\"B0_K_S0_M\",                \n",
    "\"B0_M\",          \n",
    "\"B0_etap_M\",     \n",
    "\"B0_etap_eta_M\",\n",
    "\"B0_TrCSMVA\"]"
   ]
  },
  {
   "cell_type": "code",
   "execution_count": 6,
   "metadata": {},
   "outputs": [
    {
     "name": "stdout",
     "output_type": "stream",
     "text": [
      "Signal shape :  (3429, 15)\n",
      "Continuum_bkg shape :  (249, 15)\n",
      "Peaking_bkg shape :  (41243, 15)\n"
     ]
    }
   ],
   "source": [
    "Signal_selection = Signal[Important_variables]\n",
    "Continuum_bkg_selection= Continuum_bkg[Important_variables]\n",
    "Peaking_bkg_selection= Peaking_bkg[Important_variables]\n",
    "\n",
    "print(\"Signal shape : \",Continuum_bkg_selection.shape)\n",
    "print(\"Continuum_bkg shape : \",Peaking_bkg_selection.shape)\n",
    "print(\"Peaking_bkg shape : \",Signal_selection.shape)\n",
    "\n",
    "\n",
    "#The Dataframe contains arrays as elements, I create a new column for each component\n",
    "Signal_comp = pd.concat([pd.DataFrame(Signal_selection[c].tolist()).add_prefix(c[:c.index('4')]).add_suffix(c[c.index('4')+1:]) if '4' in c else Signal_selection[c] for c in Signal_selection], axis=1)\n",
    "Peaking_bkg_comp = pd.concat([pd.DataFrame(Peaking_bkg_selection[c].tolist()).add_prefix(c[:c.index('4')]).add_suffix(c[c.index('4')+1:]) if '4' in c else Peaking_bkg_selection[c] for c in Peaking_bkg_selection], axis=1)\n",
    "Continuum_bkg_comp = pd.concat([pd.DataFrame(Continuum_bkg_selection[c].tolist()).add_prefix(c[:c.index('4')]).add_suffix(c[c.index('4')+1:]) if '4' in c else Continuum_bkg_selection[c] for c in Continuum_bkg_selection], axis=1)"
   ]
  },
  {
   "cell_type": "code",
   "execution_count": 7,
   "metadata": {},
   "outputs": [],
   "source": [
    "from random import seed\n",
    "from random import randint\n",
    "# seed random number generator\n",
    "n_seed=2347\n",
    "seed(n_seed)"
   ]
  },
  {
   "cell_type": "code",
   "execution_count": 8,
   "metadata": {},
   "outputs": [],
   "source": [
    "import sklearn\n",
    "from sklearn.model_selection import train_test_split\n",
    "Signal_comp['Type'] = 2 #Signal label == 2\n",
    "Peaking_bkg_comp['Type'] = 1 # Peaking background label == 1\n",
    "Continuum_bkg_comp['Type'] = 0 #Continuum backgroun label == 0\n",
    "# Put in a dataframe randomly shuffled the lines\n",
    "Sum_BS = pd.concat([Signal_comp,Peaking_bkg_comp,Continuum_bkg_comp]).sample(frac=1)\n",
    "X = Sum_BS.drop('Type',axis=1)\n",
    "Y = Sum_BS['Type']\n",
    "# Dataframe divided into 80% of train data and 20% of test\n",
    "X_train, X_test, Y_train, Y_test = train_test_split(X, Y, train_size=0.8,random_state=randint(10**6,10**9))\n",
    "# Standardize features by removing the mean and scaling to unit variance"
   ]
  },
  {
   "cell_type": "code",
   "execution_count": 9,
   "metadata": {},
   "outputs": [
    {
     "name": "stdout",
     "output_type": "stream",
     "text": [
      "StandardScaler(copy=True, with_mean=True, with_std=True)\n"
     ]
    }
   ],
   "source": [
    "from sklearn.preprocessing import StandardScaler\n",
    "ss = StandardScaler()\n",
    "print(ss.fit(X_train))\n",
    "# The averages and standard deviations of all the databases are saved, \n",
    "# now with transfer I modify the data (Train and Test) in practice\n",
    "X_train = ss.transform(X_train)\n",
    "X_test = ss.transform(X_test)\n",
    "\n",
    "# '''DNN Error: Input contains NaN, infinity or a value too large for dtype('float64')'''\n",
    "# #Check if there are NaN in X_train and X_test\n",
    "# Null_X_train=np.isnan(X_train)#.T.any().T.sum()\n",
    "# print(Null_X_train)\n",
    "# Null_X_test=np.isnan(X_test)#.T.any().T.sum()\n",
    "# print(Null_X_test)"
   ]
  },
  {
   "cell_type": "code",
   "execution_count": 10,
   "metadata": {},
   "outputs": [],
   "source": [
    "from sklearn.neural_network import MLPClassifier\n",
    "from sklearn.model_selection import GridSearchCV\n",
    "from sklearn.metrics import accuracy_score"
   ]
  },
  {
   "cell_type": "code",
   "execution_count": 11,
   "metadata": {},
   "outputs": [],
   "source": [
    "def build_deep_neural_network(layers):\n",
    "    # create model\n",
    "    model = Sequential()\n",
    "    model.add(Dense(layers[0], input_shape=(X_train.shape[1],), activation='relu'))\n",
    "    for i in range(1,len(layers)):\n",
    "#     model.add(Dropout(rate=0.1))\n",
    "        model.add(Dense(layers[i], activation='relu'))\n",
    "    model.add(Dense(3, activation='sigmoid'))\n",
    "    model.compile(optimizer='adam', loss='sparse_categorical_crossentropy', metrics=['accuracy'])\n",
    "    return model"
   ]
  },
  {
   "cell_type": "code",
   "execution_count": 12,
   "metadata": {},
   "outputs": [
    {
     "name": "stdout",
     "output_type": "stream",
     "text": [
      "WARNING:tensorflow:From /home/guida/anaconda3/envs/myrootenv/lib/python3.7/site-packages/tensorflow/python/framework/op_def_library.py:263: colocate_with (from tensorflow.python.framework.ops) is deprecated and will be removed in a future version.\n",
      "Instructions for updating:\n",
      "Colocations handled automatically by placer.\n",
      "WARNING:tensorflow:From /home/guida/anaconda3/envs/myrootenv/lib/python3.7/site-packages/tensorflow/python/ops/math_ops.py:3066: to_int32 (from tensorflow.python.ops.math_ops) is deprecated and will be removed in a future version.\n",
      "Instructions for updating:\n",
      "Use tf.cast instead.\n",
      "CPU times: user 1min 59s, sys: 1min 15s, total: 3min 15s\n",
      "Wall time: 3min 7s\n"
     ]
    },
    {
     "name": "stderr",
     "output_type": "stream",
     "text": [
      "2019-07-03 11:20:26.454034: I tensorflow/core/platform/cpu_feature_guard.cc:141] Your CPU supports instructions that this TensorFlow binary was not compiled to use: SSE4.1 SSE4.2 AVX AVX2 FMA\n",
      "2019-07-03 11:20:26.492200: I tensorflow/core/platform/profile_utils/cpu_utils.cc:94] CPU Frequency: 2592000000 Hz\n",
      "2019-07-03 11:20:26.493876: I tensorflow/compiler/xla/service/service.cc:150] XLA service 0x55d52b67bd30 executing computations on platform Host. Devices:\n",
      "2019-07-03 11:20:26.493916: I tensorflow/compiler/xla/service/service.cc:158]   StreamExecutor device (0): <undefined>, <undefined>\n",
      "OMP: Info #212: KMP_AFFINITY: decoding x2APIC ids.\n",
      "OMP: Info #210: KMP_AFFINITY: Affinity capable, using global cpuid leaf 11 info\n",
      "OMP: Info #154: KMP_AFFINITY: Initial OS proc set respected: 0-3\n",
      "OMP: Info #156: KMP_AFFINITY: 4 available OS procs\n",
      "OMP: Info #157: KMP_AFFINITY: Uniform topology\n",
      "OMP: Info #179: KMP_AFFINITY: 1 packages x 2 cores/pkg x 2 threads/core (2 total cores)\n",
      "OMP: Info #214: KMP_AFFINITY: OS proc to physical thread map:\n",
      "OMP: Info #171: KMP_AFFINITY: OS proc 0 maps to package 0 core 0 thread 0 \n",
      "OMP: Info #171: KMP_AFFINITY: OS proc 2 maps to package 0 core 0 thread 1 \n",
      "OMP: Info #171: KMP_AFFINITY: OS proc 1 maps to package 0 core 1 thread 0 \n",
      "OMP: Info #171: KMP_AFFINITY: OS proc 3 maps to package 0 core 1 thread 1 \n",
      "OMP: Info #250: KMP_AFFINITY: pid 3806 tid 3806 thread 0 bound to OS proc set 0\n",
      "2019-07-03 11:20:26.495221: I tensorflow/core/common_runtime/process_util.cc:71] Creating new thread pool with default inter op setting: 2. Tune using inter_op_parallelism_threads for best performance.\n",
      "OMP: Info #250: KMP_AFFINITY: pid 3806 tid 3966 thread 1 bound to OS proc set 1\n",
      "OMP: Info #250: KMP_AFFINITY: pid 3806 tid 3984 thread 2 bound to OS proc set 2\n",
      "OMP: Info #250: KMP_AFFINITY: pid 3806 tid 3985 thread 3 bound to OS proc set 3\n",
      "OMP: Info #250: KMP_AFFINITY: pid 3806 tid 3986 thread 4 bound to OS proc set 0\n",
      "OMP: Info #250: KMP_AFFINITY: pid 3806 tid 3965 thread 5 bound to OS proc set 1\n",
      "OMP: Info #250: KMP_AFFINITY: pid 3806 tid 3990 thread 6 bound to OS proc set 2\n",
      "OMP: Info #250: KMP_AFFINITY: pid 3806 tid 3991 thread 7 bound to OS proc set 3\n",
      "OMP: Info #250: KMP_AFFINITY: pid 3806 tid 3992 thread 8 bound to OS proc set 0\n"
     ]
    }
   ],
   "source": [
    "%%time\n",
    "layers=[200, 300, 100]\n",
    "bestModel = build_deep_neural_network(layers)\n",
    "bestModel.fit(X_train, Y_train, epochs=5,verbose=0)"
   ]
  },
  {
   "cell_type": "code",
   "execution_count": 13,
   "metadata": {},
   "outputs": [],
   "source": [
    "from sklearn.metrics import confusion_matrix\n",
    "Y_train_predict = bestModel.predict(X_train)\n",
    "Y_test_predict = bestModel.predict(X_test)\n",
    "Y_test_mo=pd.get_dummies(Y_test[:])\n",
    "Y_test_predict_mo=Y_test_predict.round()\n",
    "cnf_matrix = confusion_matrix(Y_test_mo.values.argmax(axis=1), Y_test_predict_mo.argmax(axis=1))\n",
    "# confusion_matrix(Y_test_mo, Y_test_predict_mo, labels=['Continuum_bkg', 'Peaking_bkg', 'Signal'])"
   ]
  },
  {
   "cell_type": "code",
   "execution_count": 14,
   "metadata": {},
   "outputs": [],
   "source": [
    "def plot_confusion_matrix(cm, classes,\n",
    "                          normalize=True,\n",
    "                          title='Confusion matrix',\n",
    "                          cmap=plt.cm.Blues):\n",
    "    \"\"\"\n",
    "    This function prints and plots the confusion matrix.\n",
    "    Normalization can be applied by setting `normalize=True`.\n",
    "    \"\"\"\n",
    "    if normalize:\n",
    "        cm = cm.astype('float') / cm.sum(axis=1)[:, np.newaxis]\n",
    "        print(\"Normalized confusion matrix\")\n",
    "    else:\n",
    "        print('Confusion matrix, without normalization')\n",
    "\n",
    "    print(cm)\n",
    "\n",
    "    plt.imshow(cm, interpolation='nearest', cmap=cmap)\n",
    "    plt.title(title)\n",
    "    plt.colorbar()\n",
    "    tick_marks = np.arange(len(classes))\n",
    "    plt.xticks(tick_marks, classes, rotation=45)\n",
    "    plt.yticks(tick_marks, classes)\n",
    "\n",
    "    fmt = '.2f' if normalize else 'd'\n",
    "    thresh = cm.max() / 2.\n",
    "    for i, j in itertools.product(range(cm.shape[0]), range(cm.shape[1])):\n",
    "        plt.text(j, i, format(cm[i, j], fmt),\n",
    "                 horizontalalignment=\"center\",\n",
    "                 color=\"white\" if cm[i, j] > thresh else \"black\")\n",
    "\n",
    "    plt.ylabel('True label')\n",
    "    plt.xlabel('Predicted label')\n",
    "    plt.figure(figsize=(200,100))\n",
    "    plt.tight_layout()"
   ]
  },
  {
   "cell_type": "code",
   "execution_count": 15,
   "metadata": {},
   "outputs": [
    {
     "name": "stdout",
     "output_type": "stream",
     "text": [
      "Normalized confusion matrix\n",
      "[[9.64338782e-01 0.00000000e+00 3.56612184e-02]\n",
      " [5.30612245e-01 4.08163265e-02 4.28571429e-01]\n",
      " [7.26128525e-03 1.21021421e-04 9.92617693e-01]]\n"
     ]
    },
    {
     "data": {
      "image/png": "[encoded data removed]",
      "text/plain": [
       "<Figure size 432x288 with 2 Axes>"
      ]
     },
     "metadata": {
      "needs_background": "light"
     },
     "output_type": "display_data"
    },
    {
     "data": {
      "text/plain": [
       "<Figure size 14400x7200 with 0 Axes>"
      ]
     },
     "metadata": {},
     "output_type": "display_data"
    }
   ],
   "source": [
    "plot_confusion_matrix(cnf_matrix, classes=['Signal', 'Peaking_bkg', 'Continuum_bkg'],title='Confusion matrix, with normalization')"
   ]
  },
  {
   "cell_type": "code",
   "execution_count": null,
   "metadata": {},
   "outputs": [],
   "source": []
  }
 ],
 "metadata": {
  "kernelspec": {
   "display_name": "Python 3",
   "language": "python",
   "name": "python3"
  },
  "language_info": {
   "codemirror_mode": {
    "name": "ipython",
    "version": 3
   },
   "file_extension": ".py",
   "mimetype": "text/x-python",
   "name": "python",
   "nbconvert_exporter": "python",
   "pygments_lexer": "ipython3",
   "version": "3.7.3"
  },
  "latex_envs": {
   "LaTeX_envs_menu_present": true,
   "autoclose": false,
   "autocomplete": true,
   "bibliofile": "biblio.bib",
   "cite_by": "apalike",
   "current_citInitial": 1,
   "eqLabelWithNumbers": true,
   "eqNumInitial": 1,
   "hotkeys": {
    "equation": "Ctrl-E",
    "itemize": "Ctrl-I"
   },
   "labels_anchors": false,
   "latex_user_defs": false,
   "report_style_numbering": false,
   "user_envs_cfg": false
  }
 },
 "nbformat": 4,
 "nbformat_minor": 2
}
